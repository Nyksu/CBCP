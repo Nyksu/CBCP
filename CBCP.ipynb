{
 "cells": [
  {
   "cell_type": "markdown",
   "metadata": {},
   "source": [
    "# Программа для расчёта несущей способности свай в талых грунтах#\n",
    "*Запуск одного блока Ctrl+Enter*\n",
    "\n",
    "**Внимание, первично запускать блоки строго по порядку. После этого часть блоков уже можно запускать в порядке замены данных.**"
   ]
  },
  {
   "cell_type": "code",
   "execution_count": 1,
   "metadata": {},
   "outputs": [],
   "source": [
    "title = '''\n",
    "CBCP (Calculation of the bearing capacity of piles)\n",
    "Программа для расчёта несущей способности свай в талых грунтах\n",
    "СП 24.13330.2011 (Свайные фундаменты)\n",
    "NykSu (c) май 2020.  v 1.0.0 jupiter NB\n",
    "GitHub NykSu\n",
    "'''\n",
    "import xlrd\n",
    "import os\n",
    "import sys\n",
    "import configparser\n",
    "\n",
    "struct = {'sand' : [0, 'песчаные грунты', 'песчаного грунта', 'песка'], \n",
    "          'clay' : [1, 'глинистые грунты', 'глинистого грунта', 'глины']}\n",
    "\n",
    "# это техническая часть - ее запускаем в самом начале и только один раз!\n",
    "class graundLayers:\n",
    "    layers = {}\n",
    "    ids = set()\n",
    "\n",
    "    def getsteckdepth():\n",
    "        result = 0\n",
    "        if len(graundLayers.layers) > 0:\n",
    "            for l in graundLayers.layers.values():\n",
    "                result += l.depth\n",
    "        return result\n",
    "    \n",
    "    def getLayerByH(h):\n",
    "        lr = None\n",
    "        hstack = 0\n",
    "        for l in graundLayers.layers.values():\n",
    "            hstack += l.depth\n",
    "            if hstack > h:\n",
    "                lr = l\n",
    "                break\n",
    "            elif hstack == h:\n",
    "                l.depth += 0.005\n",
    "                hstack += 0.005\n",
    "                lr = l\n",
    "                break\n",
    "        return [lr, hstack]\n",
    "\n",
    "    def __init__(self, depth, material, tid, fluidity):\n",
    "        self.id = len(graundLayers.ids) + 1\n",
    "        graundLayers.ids.add(self.id)\n",
    "        self.depth = depth\n",
    "        self.middle = graundLayers.getsteckdepth() + depth / 2\n",
    "        self.material = material\n",
    "        self.tid = tid\n",
    "        self.fluidity = fluidity\n",
    "        graundLayers.layers[self.id] = self\n",
    "\n",
    "\n",
    "class Catalog:\n",
    "    codes = {}\n",
    "    \n",
    "    def __init__(self, code, sort, iseasy, interpol, opinterpol):\n",
    "        self.code = code\n",
    "        self.iseasy = iseasy\n",
    "        self.interpol = interpol\n",
    "        self.sort = sort\n",
    "        self.titles = []\n",
    "        self.operators = []\n",
    "        self.strow = 1\n",
    "        self.endraw = 0\n",
    "        self.endcol = 0\n",
    "        self.opinterpol = opinterpol\n",
    "        self.data = []\n",
    "        self.caption = ''\n",
    "        self.captionplus = ''\n",
    "        Catalog.codes.update({(code, sort): self}) \n",
    "    \n",
    "    def getInterpol(self, neoper, fluidity, reserror = -1):\n",
    "        result = reserror # возвращает при ошибке\n",
    "        try:\n",
    "            fluidlist = list(map(float, self.titles))\n",
    "        except:\n",
    "            return result\n",
    "        if fluidity <= fluidlist[0]:\n",
    "            return self.getNear(neoper, 0, -2)\n",
    "        elif fluidity >= fluidlist[-1]:\n",
    "            idx = len(fluidlist) - 1\n",
    "            return self.getNear(neoper, idx, -3)\n",
    "        mindelta = 100000\n",
    "        idx = -1\n",
    "        idn = -1\n",
    "        for i in range(len(fluidlist)):\n",
    "            if abs(fluidity - fluidlist[i]) < mindelta:\n",
    "                mindelta = abs(fluidity - fluidlist[i])\n",
    "                idx = i\n",
    "                if fluidity < fluidlist[i]:\n",
    "                    idn = i - 1\n",
    "                else:\n",
    "                    idn = i\n",
    "        if mindelta < 0.002:\n",
    "            return self.getNear(neoper, idx, -4)\n",
    "        r1 = self.getNear(neoper, idn, -5)\n",
    "        r2 = self.getNear(neoper, idn + 1, -6)\n",
    "        if r1 > 0 and r2 > 0:\n",
    "            result = (r2 - r1) * (fluidity - fluidlist[idn]) / (fluidlist[idn + 1] - fluidlist[idn]) + r1\n",
    "        return result\n",
    "\n",
    "\n",
    "    def getNear(self, neoper, titlnom, reserror = -10):\n",
    "        result = reserror # возвращает при ошибке\n",
    "        if not self.interpol:\n",
    "            return self.getSharp(neoper, titlnom, -11)\n",
    "        elif self.titles[titlnom][0] == '@':\n",
    "            return result\n",
    "        if neoper > 40:\n",
    "            return result\n",
    "        mindelta = 100000\n",
    "        idx = -1\n",
    "        for i in range(len(self.operators)):\n",
    "            if abs(neoper - self.operators[i]) < mindelta:\n",
    "                mindelta = abs(neoper - self.operators[i])\n",
    "                if neoper < self.operators[i] and i > 0:\n",
    "                    idx = i - 1\n",
    "                else:\n",
    "                    idx = i\n",
    "        if mindelta < 0.01:\n",
    "            if abs(neoper - self.operators[idx]) <= mindelta:\n",
    "                return self.data[idx][titlnom]\n",
    "            else:\n",
    "                return self.data[idx + 1][titlnom]\n",
    "        result = (self.data[idx + 1][titlnom] - self.data[idx][titlnom]) \n",
    "        result *= abs(neoper - self.operators[idx])/(self.operators[idx + 1] - self.operators[idx])\n",
    "        result += self.data[idx][titlnom]\n",
    "        return result\n",
    "    \n",
    "    def getSharp(self, oper, titlnom, reserror = -20):\n",
    "        idx = -1\n",
    "        for i in range(len(self.operators)):\n",
    "            if abs(oper - self.operators[i]) < 0.001:\n",
    "                idx = i\n",
    "                break\n",
    "        if idx >= 0:\n",
    "            return self.data[idx][titlnom]\n",
    "        else:\n",
    "            return reserror\n",
    "    \n",
    "    def addcatTitle(self, name):\n",
    "        self.titles.append(name)\n",
    "\n",
    "    def addcatOperator(self, value):\n",
    "        self.operators.append(value)\n",
    "    \n",
    "    def Tcount(self):\n",
    "        return len(self.titles)\n",
    "\n",
    "    def Rcount(self):\n",
    "        return len(self.operators)\n",
    "    \n",
    "    def LoadData(self, sheet):\n",
    "        for row in range(self.strow, self.endraw):\n",
    "            rr = []\n",
    "            for col in range(1, self.endcol):\n",
    "                if self.titles[col-1][0] == '@':\n",
    "                    rr.append(str(sheet.row_values(row)[col]))\n",
    "                else:\n",
    "                    rr.append(float(sheet.row_values(row)[col]))\n",
    "            if len(rr) > 0:\n",
    "                self.data.append(rr)\n",
    "\n",
    "    def setupFromSheet(self, sheet, conf):\n",
    "        rowcount = sheet.nrows\n",
    "        colcount = sheet.ncols\n",
    "        self.endrow = rowcount\n",
    "        for row in range(self.strow,rowcount):\n",
    "            if sheet.row_values(row)[0] == 'start':\n",
    "                self.strow = row + 1\n",
    "            if sheet.row_values(row)[0] == 'end':\n",
    "                self.endraw = row - 1\n",
    "                break\n",
    "            if self.strow > 1 and row >= self.strow:\n",
    "                if self.iseasy:\n",
    "                    self.addcatOperator(float(sheet.row_values(row)[0]))\n",
    "                else:\n",
    "                    self.addcatOperator(int(sheet.row_values(row)[0]))\n",
    "        self.endcol = colcount\n",
    "        for col in range(1, colcount):\n",
    "            if sheet.row_values(self.strow-1)[col] == '':\n",
    "                self.endcol = col-1\n",
    "                break\n",
    "            self.addcatTitle(str(sheet.row_values(self.strow-1)[col]))\n",
    "        self.LoadData(sheet)\n",
    "        row, col = [int(i) for i in conf.get(self.code, 'captionpos').split(',')] \n",
    "        self.caption = sheet.row_values(row)[col]   \n",
    "        stt = conf.get(self.code, 'captionplus')\n",
    "        if stt != '@':\n",
    "            row, col = [int(i) for i in stt.split(',')]\n",
    "            self.captionplus = sheet.row_values(row)[col]"
   ]
  },
  {
   "cell_type": "markdown",
   "metadata": {},
   "source": [
    "---------------"
   ]
  },
  {
   "cell_type": "markdown",
   "metadata": {},
   "source": [
    "### Формула расчёта ###"
   ]
  },
  {
   "cell_type": "code",
   "execution_count": 34,
   "metadata": {},
   "outputs": [],
   "source": [
    "def CalcPile(Gamma_C, svaiaL, svaiaS, svaiaP, svaiaO, KN, hNoCalc):\n",
    "    result = -100\n",
    "    R = 0\n",
    "    cat7_2sand = Catalog.codes[('7_2', 'sand')]\n",
    "    cat7_2clay = Catalog.codes[('7_2', 'clay')]\n",
    "    cat7_3sand = Catalog.codes[('7_3', 'sand')]\n",
    "    cat7_3clay = Catalog.codes[('7_3', 'clay')]\n",
    "    cat7_4 = Catalog.codes[('7_4', 'grunt')]\n",
    "    \n",
    "    Grr =  cat7_4.data[cat7_4.operators.index(svaiaO)][3]\n",
    "    Fde = svaiaS * Grr \n",
    "    lll = graundLayers.getLayerByH(svaiaL)    \n",
    "    if lll[0].tid < 0:\n",
    "        R = cat7_2clay.getInterpol(svaiaL, lll[0].fluidity)\n",
    "    else:\n",
    "        R = cat7_2sand.getNear(svaiaL, lll[0].tid)\n",
    "    if R < 0:\n",
    "        #raise ValueError(\"Ошибка интерполяции для таблицы 7.2; code = \" + str(R))\n",
    "        return R\n",
    "    Fde *= R\n",
    "    Fds = 0\n",
    "    if hNoCalc > 0:\n",
    "        lNc = graundLayers.getLayerByH(hNoCalc)\n",
    "    for lr in graundLayers.layers.values():\n",
    "        if lr.middle >= lll[0].middle:\n",
    "            break\n",
    "        f = 0\n",
    "        lrmiddle = lr.middle\n",
    "        lrdepth = lr.depth\n",
    "        if hNoCalc > 0:\n",
    "            if lr.middle < lNc[0].middle:\n",
    "                print(lr.id, lrmiddle, lNc[0].middle, 'Слой пропущен целиком', lrdepth)\n",
    "                continue\n",
    "            elif lr.middle == lNc[0].middle:\n",
    "                lrdepth = lNc[1] - hNoCalc \n",
    "                lrmiddle = lNc[1] - lrdepth / 2\n",
    "                print(lr.id, round(lr.middle, 2), 'Слой не весь учтён. Толщина слоя уменьшина с', \n",
    "                      round(lr.depth, 2), 'до', round(lrdepth, 2), 'м')\n",
    "        if lr.tid < 0:\n",
    "            f = cat7_3clay.getInterpol(lrmiddle, lr.fluidity)\n",
    "        else:\n",
    "            f = cat7_3sand.getNear(lrmiddle, lr.tid)\n",
    "        if f < 0:\n",
    "            # raise ValueError(\"Ошибка интерполяции для таблицы 7.3; code = \" + str(f))\n",
    "            return f\n",
    "        Fff = f * lrdepth * cat7_4.data[cat7_4.operators.index(svaiaO)][4]\n",
    "        print(lr.id, round(lrmiddle, 2), round(f, 2), round(lrdepth, 2), \n",
    "              cat7_4.data[cat7_4.operators.index(svaiaO)][4], round(Fff, 2))\n",
    "        Fds += Fff\n",
    "    midHLast = lll[1] - lll[0].depth + (lll[0].depth - (lll[1] - svaiaL)) / 2\n",
    "    f = 0\n",
    "    if lll[0].tid < 0:\n",
    "        f = cat7_3clay.getInterpol(midHLast, lll[0].fluidity)\n",
    "    else:\n",
    "        f = cat7_3sand.getNear(midHLast, lll[0].tid)\n",
    "    if f < 0:\n",
    "        # raise ValueError(\"Ошибка интерполяции для таблицы 7.3; code = \" + str(f))\n",
    "        return f\n",
    "    Fff = f * (lll[0].depth - (lll[1] - svaiaL)) * cat7_4.data[cat7_4.operators.index(svaiaO)][4]\n",
    "    print(lll[0].id, round(midHLast, 2), round(f, 2), round(lll[0].depth - (lll[1] - svaiaL), 2), \n",
    "          cat7_4.data[cat7_4.operators.index(svaiaO)][4], round(Fff, 2))\n",
    "    Fds += Fff\n",
    "    Fds *= svaiaP\n",
    "    # Fde = F_d\n",
    "    Fds *= Gamma_C\n",
    "    Fde *= Gamma_C\n",
    "    F_d = Fds + Fde\n",
    "    Fdp = F_d / KN\n",
    "    result = [F_d, Fds, Fde, Fdp]\n",
    "    return result"
   ]
  },
  {
   "cell_type": "markdown",
   "metadata": {},
   "source": [
    "**Загрузка технических данных - тоже запускается только один раз.\n",
    "Загружаем справочники из таблиц.**"
   ]
  },
  {
   "cell_type": "code",
   "execution_count": 3,
   "metadata": {},
   "outputs": [
    {
     "name": "stdout",
     "output_type": "stream",
     "text": [
      "11 11 Загружена таблица 7.2\n",
      "14 14 Загружена таблица 7.3\n",
      "21 5 Загружена таблица 7.4\n",
      "\n"
     ]
    }
   ],
   "source": [
    "base_path = \"E:\\Volume\\Dev\\CBCP\"\n",
    "ini_conf_name = 'CBCP.ini'\n",
    "\n",
    "if not os.path.exists(os.path.join(base_path, ini_conf_name)):\n",
    "    sys.exit('Не найден файл конфигурации: ' + os.path.join(base_path, ini_conf_name))\n",
    "\n",
    "config = configparser.ConfigParser()\n",
    "config.read(os.path.join(base_path, ini_conf_name))\n",
    "confCat = \"CATALOGS\"\n",
    "xlpath = config.get(\"PATH\", 'xlspath')\n",
    "\n",
    "cat7_2sand = Catalog('7_2', 'sand', True, True, False)\n",
    "cat7_2clay = Catalog('7_2', 'clay', True, True, True)\n",
    "cat7_3sand = Catalog('7_3', 'sand', True, True, False)\n",
    "cat7_3clay = Catalog('7_3', 'clay', True, True, True)\n",
    "cat7_4 = Catalog('7_4', 'grunt', False, False, False)\n",
    "\n",
    "wb = xlrd.open_workbook(xlpath + config.get(confCat, cat7_2sand.code))\n",
    "sh_dic = wb.sheet_by_name(cat7_2sand.sort)\n",
    "cat7_2sand.setupFromSheet(sh_dic, config)        \n",
    "\n",
    "wb = xlrd.open_workbook(xlpath + config.get(confCat, cat7_2clay.code))\n",
    "sh_dic = wb.sheet_by_name(cat7_2clay.sort)\n",
    "cat7_2clay.setupFromSheet(sh_dic, config)\n",
    "\n",
    "wb = xlrd.open_workbook(xlpath + config.get(confCat, cat7_3sand.code))\n",
    "sh_dic = wb.sheet_by_name(cat7_3sand.sort)\n",
    "cat7_3sand.setupFromSheet(sh_dic, config)\n",
    "\n",
    "wb = xlrd.open_workbook(xlpath + config.get(confCat, cat7_3clay.code))\n",
    "sh_dic = wb.sheet_by_name(cat7_3clay.sort)\n",
    "cat7_3clay.setupFromSheet(sh_dic, config)\n",
    "\n",
    "wb = xlrd.open_workbook(xlpath + config.get(confCat, cat7_4.code))\n",
    "sh_dic = wb.sheet_by_name(cat7_4.sort)\n",
    "cat7_4.setupFromSheet(sh_dic, config)\n",
    "\n",
    "print(cat7_2sand.Rcount(), cat7_2clay.Rcount(), 'Загружена таблица 7.2')    \n",
    "print(cat7_3sand.Rcount(), cat7_3clay.Rcount(), 'Загружена таблица 7.3')\n",
    "print(cat7_4.Rcount(), cat7_4.Tcount(), 'Загружена таблица 7.4')\n",
    "print()"
   ]
  },
  {
   "cell_type": "markdown",
   "metadata": {},
   "source": [
    "*Следующий блок чистит (удаляет) все слои грунта. Его не нужно запускать при первом запуске программного кода.*"
   ]
  },
  {
   "cell_type": "code",
   "execution_count": 45,
   "metadata": {},
   "outputs": [],
   "source": [
    "# Запустите для удаления всех слоёв грунта\n",
    "graundLayers.layers.clear()    \n",
    "graundLayers.ids.clear()"
   ]
  },
  {
   "cell_type": "markdown",
   "metadata": {},
   "source": [
    "**Выбор параметра автоматического деления слоя груна на части по 1 или 2 метра.**"
   ]
  },
  {
   "cell_type": "code",
   "execution_count": 44,
   "metadata": {},
   "outputs": [
    {
     "name": "stdout",
     "output_type": "stream",
     "text": [
      "Делить слои грунтов на части? Нет - 0, делить на 1м - 1, делить на 2м - 2: 0\n"
     ]
    }
   ],
   "source": [
    "cutLayer = int(input('Делить слои грунтов на части? Нет - 0, делить на 1м - 1, делить на 2м - 2: '))"
   ]
  },
  {
   "cell_type": "markdown",
   "metadata": {},
   "source": [
    "**В этом блоке вводятся слои грунта. Его можно повторять для внесения дополнительных слоёв.**"
   ]
  },
  {
   "cell_type": "code",
   "execution_count": 46,
   "metadata": {},
   "outputs": [
    {
     "name": "stdout",
     "output_type": "stream",
     "text": [
      "Вводим слои грунтов.\n",
      "Новый слой.\n",
      "Выбирите тип грунта: \n",
      "песчаные грунты - введите  0\n",
      "глинистые грунты - введите  1\n",
      "0 или 1? Сделайте выбор: 0\n",
      "\n",
      "Уточните параметры  песчаного грунта\n",
      "Из каких типов песка  состоит слой (введите номер):\n",
      "гравелистых  =  0\n",
      "крупных  =  1\n",
      "средней крупности  =  2\n",
      "мелких  =  3\n",
      "пылеватых  =  4\n",
      "Введите номер типа: 2\n",
      "Введите мощность текущего слоя песчаного грунта\n",
      "в метрах: 4\n",
      "Номера ввёденных слоёв: 1\n",
      "\n",
      "Введите 1 для добавления слоя или 0 для закрытия слоёв грунта: 0\n",
      "\n",
      "Завершение ввода слоёв грунта.\n",
      "Общая грубина введённых слоёв грута: 4.0 (м)\n",
      "\n"
     ]
    }
   ],
   "source": [
    "print('Вводим слои грунтов.')\n",
    "hlayers = 0\n",
    "hNoCalc = 0\n",
    "while True:\n",
    "    print('Новый слой.')\n",
    "    print('Выбирите тип грунта: ')\n",
    "    for tt in struct.values():\n",
    "        print(tt[1],'- введите ', tt[0])\n",
    "    ii = int(input('0 или 1? Сделайте выбор: '))\n",
    "    if 0 == ii or ii == 1:\n",
    "        grunt = list(struct.keys())[ii]\n",
    "    else:\n",
    "        print('Ошибка выбора типа грунта.')\n",
    "        continue\n",
    "    print()\n",
    "    print('Уточните параметры ', struct[grunt][2])\n",
    "    if not Catalog.codes[('7_2', grunt)].opinterpol:\n",
    "        print('Из каких типов', struct[grunt][3],' состоит слой (введите номер):')\n",
    "    else:\n",
    "        print('Табличные значения: ', end = ' ')\n",
    "    for i in range(len(Catalog.codes[('7_2', grunt)].titles)):\n",
    "        if not Catalog.codes[('7_2', grunt)].opinterpol:\n",
    "            print(Catalog.codes[('7_2', grunt)].titles[i], ' = ', i)\n",
    "        else:\n",
    "            print(Catalog.codes[('7_2', grunt)].titles[i], end = ' ')\n",
    "    if not Catalog.codes[('7_2', grunt)].opinterpol:\n",
    "        tid = int(input('Введите номер типа: '))\n",
    "        fluid = 0\n",
    "    else:\n",
    "        print()\n",
    "        fluid = float(input('Введите показатель текучести ' + struct[grunt][2] + ': '))\n",
    "        tid = -1\n",
    "    print('Введите мощность текущего слоя', struct[grunt][2])\n",
    "    val = float(input('в метрах: '))\n",
    "    if val == 0:\n",
    "        print('Завершение ввода слоёв грунта.')\n",
    "        break\n",
    "    if cutLayer > 0 and val > cutLayer:\n",
    "        for vv in range(cutLayer,int(val+1), cutLayer):\n",
    "            graundLayers(cutLayer, grunt, tid, fluid)\n",
    "        if val - vv * cutLayer > 0:\n",
    "            graundLayers(val - vv * cutLayer, grunt, tid, fluid)\n",
    "    else:\n",
    "        graundLayers(val, grunt, tid, fluid)\n",
    "    print('Номера ввёденных слоёв:', *list(graundLayers.layers.keys()))\n",
    "    print()\n",
    "    ii = int(input('Введите 1 для добавления слоя или 0 для закрытия слоёв грунта: '))\n",
    "    print()\n",
    "    hlayers = graundLayers.getsteckdepth()\n",
    "    if ii == 0:\n",
    "        if hlayers < 3:\n",
    "            print('Не достаточная для расчётов глубина набора грунтов! Введите еще слои грунтов.')\n",
    "            continue\n",
    "        print('Завершение ввода слоёв грунта.')\n",
    "        break\n",
    "print('Общая грубина введённых слоёв грута:', hlayers, '(м)')\n",
    "print()"
   ]
  },
  {
   "cell_type": "markdown",
   "metadata": {},
   "source": [
    "**Блок задания верхнего не учитываемого в расчёте слоя грунта**\n",
    "\n",
    "*Возможные причины: слой торфа, пучинистый грунт. При вводе 0 - блок не будет оказывать влияние (так же можно пропустить блок)*"
   ]
  },
  {
   "cell_type": "code",
   "execution_count": 50,
   "metadata": {},
   "outputs": [
    {
     "name": "stdout",
     "output_type": "stream",
     "text": [
      "Введите глубину верхнего не учитываемого грута (м): 1\n"
     ]
    }
   ],
   "source": [
    "hNoCalc = float(input('Введите глубину верхнего не учитываемого грута (м): '))"
   ]
  },
  {
   "cell_type": "markdown",
   "metadata": {},
   "source": [
    "**Блок ввода коэффициентов надёжности**"
   ]
  },
  {
   "cell_type": "code",
   "execution_count": 7,
   "metadata": {},
   "outputs": [
    {
     "name": "stdout",
     "output_type": "stream",
     "text": [
      "Введите коэффициент надежности по грунтам: 1\n",
      "Введите коэффициент надежности сооружения: 1\n"
     ]
    }
   ],
   "source": [
    "svaiaNG = float(input('Введите коэффициент надежности по грунтам: '))\n",
    "svaiaN = float(input('Введите коэффициент надежности сооружения: '))\n",
    "KN = svaiaN * svaiaNG"
   ]
  },
  {
   "cell_type": "markdown",
   "metadata": {},
   "source": [
    "**Блок выбора вида расчётов**"
   ]
  },
  {
   "cell_type": "code",
   "execution_count": 8,
   "metadata": {},
   "outputs": [
    {
     "name": "stdout",
     "output_type": "stream",
     "text": [
      "0 - расчёт сваи, или 1 - подбор длины сваи? Сделайте выбор: 0\n"
     ]
    }
   ],
   "source": [
    "svaiaС = int(input('0 - расчёт сваи, или 1 - подбор длины сваи? Сделайте выбор: '))"
   ]
  },
  {
   "cell_type": "markdown",
   "metadata": {},
   "source": [
    "**Блок ввода параметров сваи:**\n",
    "\n",
    "*Длина сваи вводится от уровня прирожного рельефа.*"
   ]
  },
  {
   "cell_type": "code",
   "execution_count": 48,
   "metadata": {},
   "outputs": [
    {
     "name": "stdout",
     "output_type": "stream",
     "text": [
      "Ввод параметров сваи.\n",
      "0 - круглого или 1 - квадратного сечения свая? Сделайте выбор: 0\n",
      "Введите диаметр сечения сваи (м): 0.235\n",
      "Площадь сечения сваи (кв.м): 0.043351625\n",
      "Периметр сечения сваи (м): 0.7379\n",
      "\n",
      "Длана сваи вводится от уровня прирожного рельефа.\n",
      "Введите точную длину сваи для расчёта (м): 3.7\n",
      "\n"
     ]
    }
   ],
   "source": [
    "print('Ввод параметров сваи.')\n",
    "svaiaT = 0\n",
    "ii = int(input('0 - круглого или 1 - квадратного сечения свая? Сделайте выбор: '))\n",
    "if ii != 0:\n",
    "    svaiaT = 1\n",
    "if svaiaT:\n",
    "    svaiaR = float(input('Введите длину стороны сечения сваи (м): '))\n",
    "else:\n",
    "    svaiaR = float(input('Введите диаметр сечения сваи (м): '))\n",
    "svaiaS = svaiaR * svaiaR\n",
    "svaiaP = svaiaR * 4\n",
    "if not svaiaT:\n",
    "    svaiaS = svaiaS * 3.14 / 4\n",
    "    svaiaP = svaiaR * 3.14\n",
    "print('Площадь сечения сваи (кв.м):', svaiaS)\n",
    "print('Периметр сечения сваи (м):', svaiaP)\n",
    "print()    \n",
    "\n",
    "print('Длана сваи вводится от уровня прирожного рельефа.')\n",
    "if svaiaС:\n",
    "    svaiaL = float(input('Введите ориентировочно начальную длину сваи для подбора (м): '))\n",
    "else:\n",
    "    svaiaL = float(input('Введите точную длину сваи для расчёта (м): '))\n",
    "if svaiaL < 3:\n",
    "    print('Длина сваи меньше 3 м. Данная программа может считать сваи длиной более 3х метров.')\n",
    "    print('Увеличиваем длину сваи до 3х метров')\n",
    "    svaiaL = 3\n",
    "if hlayers <= svaiaL:\n",
    "    raise ValueError(\"Ошибка! Длина сваи меньше глубины введённых слоёв. Глубина слоёв\" + str(hlayers))\n",
    "print()"
   ]
  },
  {
   "cell_type": "markdown",
   "metadata": {},
   "source": [
    "**Блок выбора коэффициентов.**\n",
    "\n",
    "Способы погружения забивных и вдавливаемых свай и свай-оболочек, погружаемых без выемки грунта, и виды грунтов"
   ]
  },
  {
   "cell_type": "code",
   "execution_count": 10,
   "metadata": {},
   "outputs": [
    {
     "name": "stdout",
     "output_type": "stream",
     "text": [
      "Выбираем Коэффициенты условий работы грунта при расчете несущей способности свай\n",
      "Способы погружения забивных и вдавливаемых свай и свай-оболочек, погружаемых без выемки грунта, и виды грунтов\n",
      "\n",
      "Погружение сплошных и полых с закрытым нижним концом свай механическими (подвесными), паровоздушными и дизельными молотами\n",
      "0 - перейти к следующему 1 - выбор текущего пункта. Сделайте выбор: 0\n",
      "\n",
      "Погружение забивкой и вдавливанием в предварительно пробуренные лидерные скважины с заглублением концов свай не менее 1 м ниже забоя скважины при ее диаметре:\n",
      "равном стороне квадратной сваи = 1\n",
      "на 0,05 м менее стороны квадратной сваи = 2\n",
      "на 0,15 м менее стороны квадратной или диаметра сваи круглого сечения (для опор линий электропередачи) = 3\n",
      "0 - перейти к следующему пункту  от 1 до 3 - выбор позиций текущего пункта. Сделайте выбор: 2\n",
      "\n"
     ]
    }
   ],
   "source": [
    "# Выбор коэффициентов из таблицы 7.4\n",
    "svaiaO = -1\n",
    "print('Выбираем', cat7_4.captionplus)\n",
    "print(cat7_4.caption)\n",
    "for op in cat7_4.operators:\n",
    "    deep = len(str(op))\n",
    "    ii = cat7_4.operators.index(op)\n",
    "    if deep == 2:\n",
    "        print()\n",
    "        print(cat7_4.data[ii][0])\n",
    "        if not int(input('0 - перейти к следующему 1 - выбор текущего пункта. Сделайте выбор: ')):\n",
    "            continue\n",
    "        else:\n",
    "            svaiaO = op\n",
    "            break\n",
    "    elif deep == 3:\n",
    "        if str(op)[1] == '1':\n",
    "            print()\n",
    "            print(cat7_4.data[ii][0])\n",
    "        print(cat7_4.data[ii][1], '=', str(op)[1])\n",
    "        if str(op)[2] == '0':\n",
    "            acc = int(input('0 - перейти к следующему пункту  от 1 до ' + str(op)[1] \n",
    "                            + ' - выбор позиций текущего пункта. Сделайте выбор: '))\n",
    "            tn = int(str(op)[1])\n",
    "            if not acc or acc > tn:\n",
    "                continue\n",
    "            elif acc == tn:\n",
    "                svaiaO = op\n",
    "                break\n",
    "            else:\n",
    "                svaiaO = cat7_4.operators[ii - (tn - acc)] \n",
    "                break\n",
    "    elif deep == 4:\n",
    "        if str(op)[2] == '1':\n",
    "            print()\n",
    "            print(cat7_4.data[ii][0])\n",
    "            print(cat7_4.data[ii][1])\n",
    "        tn = int(str(op)[2])\n",
    "        print(cat7_4.data[ii][2], '=', str(op)[2])\n",
    "        if str(op)[3] == '0':\n",
    "            acc = int(input('0 - перейти к следующему пункту от 1 ' + str(op)[2])\n",
    "                            + 'до 3 - выбор позиции текущего пункта. Сделайте выбор: ')\n",
    "            if not acc or acc > tn:\n",
    "                continue\n",
    "            elif acc == tn:\n",
    "                svaiaO = op\n",
    "                break\n",
    "            else:\n",
    "                svaiaO = cat7_4.operators[ii - (tn - acc)]\n",
    "                break\n",
    "print()"
   ]
  },
  {
   "cell_type": "markdown",
   "metadata": {},
   "source": [
    "**Блок выбора значения Гамма-Си и коэффициента перевода кН в тонны G**"
   ]
  },
  {
   "cell_type": "code",
   "execution_count": 11,
   "metadata": {},
   "outputs": [],
   "source": [
    "Gamma_C = 1\n",
    "G =10  # 10 или 9.80665"
   ]
  },
  {
   "cell_type": "markdown",
   "metadata": {},
   "source": [
    "**Блок расчёта**"
   ]
  },
  {
   "cell_type": "code",
   "execution_count": 51,
   "metadata": {},
   "outputs": [
    {
     "name": "stdout",
     "output_type": "stream",
     "text": [
      "1 1.85 40.95 3.7 0.6 90.91\n",
      "\n",
      "Расчёт закончен! Fd = 204.51  kH ( 20.45 ) тонн\n",
      "Несущая способность грунта под нижним концом сваи = 13.74 тонн\n",
      "Несущая способность грунта по боковой поверхности сваи = 6.71 тонн\n",
      "Предельно допустимая нагрузка = 20.45 тонн\n"
     ]
    }
   ],
   "source": [
    "if svaiaС:\n",
    "    svaiaFT = int(input('Подбор по полной несущей способности сваи - 0 или только по боковой поверхности - 1 ?: '))\n",
    "    print('Выборана несущая способность только по боковой поверхности' if svaiaFT \n",
    "            else 'Выборана полная несущая способность')\n",
    "    svaiaF = float(input('Введите желаемую несущую способность (тонн): '))\n",
    "    svaiaF *= G\n",
    "    LPile = svaiaL\n",
    "    while True:\n",
    "        Fdse = CalcPile(Gamma_C, LPile, svaiaS, svaiaP, svaiaO, KN, hNoCalc)\n",
    "        if type(Fdse) == int:\n",
    "            raise ValueError(\"Ошибка расчёта или интерполяции; code = \" + str(Fdse))\n",
    "        ss = ''\n",
    "        if svaiaFT:\n",
    "            ss = 'несущая способность боковой поверхности:'\n",
    "        else:\n",
    "            ss = 'полная несущая способность сваи:'\n",
    "        if Fdse[svaiaFT] <= svaiaF:\n",
    "            print('Недостаточная длина сваи:', LPile, ss, round(Fdse[svaiaFT] / G, 2), 'тонн')\n",
    "            LPile += 0.5\n",
    "            if hlayers <= LPile:\n",
    "                print('Сведений по слоям грунта не хватает для увеличения длины сваи. Подбор прекращён.')\n",
    "                break\n",
    "            continue\n",
    "        else:\n",
    "            if abs(Fdse[svaiaFT] - svaiaF)/svaiaF > 0.05:\n",
    "                print('Избыточная длина сваи:', LPile, ss, round(Fdse[svaiaFT] / G, 2), 'тонн')\n",
    "                LPile -= 0.2\n",
    "                if LPile < 3:\n",
    "                    print('Свая не может быть уменьшена. Придел расчётов 3м. Подбор прекращён.')\n",
    "                    break\n",
    "                continue\n",
    "            else:\n",
    "                print()\n",
    "                print('Расчёт закончен! Fd =', round(Fdse[0], 2), ' kH', '(', round(Fdse[0] / G, 2), ') тонн')\n",
    "                print('Искомая длина сваи:', LPile, 'метров')\n",
    "                print('Несущая способность грунта под нижним концом сваи =', round(Fdse[2] / G, 2), 'тонн')\n",
    "                print('Несущая способность грунта по боковой поверхности сваи =', round(Fdse[1] / G, 2), 'тонн')\n",
    "                print('Предельно допустимая нагрузка =', round(Fdse[3] / G, 2), 'тонн')\n",
    "                break\n",
    "else:\n",
    "    Fdse = CalcPile(Gamma_C, svaiaL, svaiaS, svaiaP, svaiaO, KN, hNoCalc)\n",
    "    if type(Fdse) == int:\n",
    "        raise ValueError(\"Ошибка расчёта или интерполяции; code = \" + str(Fdse))\n",
    "    print()\n",
    "    print('Расчёт закончен! Fd =', round(Fdse[0], 2), ' kH', '(', round(Fdse[0] / G, 2), ') тонн')\n",
    "    print('Несущая способность грунта под нижним концом сваи =', round(Fdse[2] / G, 2), 'тонн')\n",
    "    print('Несущая способность грунта по боковой поверхности сваи =', round(Fdse[1] / G, 2), 'тонн')\n",
    "    print('Предельно допустимая нагрузка =', round(Fdse[3] / G, 2), 'тонн')"
   ]
  },
  {
   "cell_type": "code",
   "execution_count": 52,
   "metadata": {},
   "outputs": [
    {
     "name": "stdout",
     "output_type": "stream",
     "text": [
      "1, 4.0, 2.0\n"
     ]
    }
   ],
   "source": [
    "# print(lll[0].id, l-mid, f, lll[0].depth, cat7_4.data[cat7_4.operators.index(svaiaO)][4], svaiaO, Fff)\n",
    "for l in graundLayers.layers.values():\n",
    "    print(l.id, l.depth, l.middle, sep=', ')"
   ]
  }
 ],
 "metadata": {
  "kernelspec": {
   "display_name": "Python 3",
   "language": "python",
   "name": "python3"
  },
  "language_info": {
   "codemirror_mode": {
    "name": "ipython",
    "version": 3
   },
   "file_extension": ".py",
   "mimetype": "text/x-python",
   "name": "python",
   "nbconvert_exporter": "python",
   "pygments_lexer": "ipython3",
   "version": "3.7.5"
  }
 },
 "nbformat": 4,
 "nbformat_minor": 2
}
